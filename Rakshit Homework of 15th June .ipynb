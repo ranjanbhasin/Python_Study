{
 "cells": [
  {
   "cell_type": "code",
   "execution_count": 2,
   "metadata": {},
   "outputs": [
    {
     "name": "stdout",
     "output_type": "stream",
     "text": [
      "Rakshit\n"
     ]
    }
   ],
   "source": [
    "print (\"Rakshit\")"
   ]
  },
  {
   "cell_type": "code",
   "execution_count": 3,
   "metadata": {},
   "outputs": [],
   "source": [
    "# Information about this program or command should be enterred"
   ]
  },
  {
   "cell_type": "code",
   "execution_count": 3,
   "metadata": {},
   "outputs": [],
   "source": [
    "i=12 + 23"
   ]
  },
  {
   "cell_type": "code",
   "execution_count": 32,
   "metadata": {},
   "outputs": [],
   "source": [
    "f=12 + 23.0"
   ]
  },
  {
   "cell_type": "code",
   "execution_count": 8,
   "metadata": {},
   "outputs": [
    {
     "name": "stdout",
     "output_type": "stream",
     "text": [
      "3.142857142857143\n"
     ]
    }
   ],
   "source": [
    "pi=22/7\n",
    "print(pi)"
   ]
  },
  {
   "cell_type": "code",
   "execution_count": 17,
   "metadata": {},
   "outputs": [
    {
     "data": {
      "text/plain": [
       "3.1428571428571423"
      ]
     },
     "execution_count": 17,
     "metadata": {},
     "output_type": "execute_result"
    }
   ],
   "source": [
    "pi"
   ]
  },
  {
   "cell_type": "code",
   "execution_count": 12,
   "metadata": {},
   "outputs": [],
   "source": [
    "pi=pi-2"
   ]
  },
  {
   "cell_type": "code",
   "execution_count": 16,
   "metadata": {},
   "outputs": [],
   "source": [
    "pi=pi/2"
   ]
  },
  {
   "cell_type": "code",
   "execution_count": 18,
   "metadata": {},
   "outputs": [],
   "source": [
    "rem=pi%2"
   ]
  },
  {
   "cell_type": "code",
   "execution_count": 19,
   "metadata": {},
   "outputs": [
    {
     "data": {
      "text/plain": [
       "1.1428571428571423"
      ]
     },
     "execution_count": 19,
     "metadata": {},
     "output_type": "execute_result"
    }
   ],
   "source": [
    "rem"
   ]
  },
  {
   "cell_type": "code",
   "execution_count": 20,
   "metadata": {},
   "outputs": [],
   "source": [
    "r=pi**2"
   ]
  },
  {
   "cell_type": "code",
   "execution_count": 23,
   "metadata": {},
   "outputs": [
    {
     "data": {
      "text/plain": [
       "31.04373177842564"
      ]
     },
     "execution_count": 23,
     "metadata": {},
     "output_type": "execute_result"
    }
   ],
   "source": [
    "r"
   ]
  },
  {
   "cell_type": "code",
   "execution_count": 39,
   "metadata": {},
   "outputs": [],
   "source": [
    "name='what is your name'"
   ]
  },
  {
   "cell_type": "code",
   "execution_count": 40,
   "metadata": {},
   "outputs": [
    {
     "data": {
      "text/plain": [
       "'what is your name'"
      ]
     },
     "execution_count": 40,
     "metadata": {},
     "output_type": "execute_result"
    }
   ],
   "source": [
    "name"
   ]
  },
  {
   "cell_type": "code",
   "execution_count": 41,
   "metadata": {},
   "outputs": [
    {
     "data": {
      "text/plain": [
       "str"
      ]
     },
     "execution_count": 41,
     "metadata": {},
     "output_type": "execute_result"
    }
   ],
   "source": [
    "type(name)"
   ]
  },
  {
   "cell_type": "code",
   "execution_count": 27,
   "metadata": {},
   "outputs": [
    {
     "data": {
      "text/plain": [
       "float"
      ]
     },
     "execution_count": 27,
     "metadata": {},
     "output_type": "execute_result"
    }
   ],
   "source": [
    "type(pi)"
   ]
  },
  {
   "cell_type": "code",
   "execution_count": 29,
   "metadata": {},
   "outputs": [
    {
     "data": {
      "text/plain": [
       "int"
      ]
     },
     "execution_count": 29,
     "metadata": {},
     "output_type": "execute_result"
    }
   ],
   "source": [
    "type(i)"
   ]
  },
  {
   "cell_type": "code",
   "execution_count": 33,
   "metadata": {},
   "outputs": [
    {
     "data": {
      "text/plain": [
       "float"
      ]
     },
     "execution_count": 33,
     "metadata": {},
     "output_type": "execute_result"
    }
   ],
   "source": [
    "type(f)"
   ]
  },
  {
   "cell_type": "code",
   "execution_count": 42,
   "metadata": {},
   "outputs": [],
   "source": [
    "f_name=\"Rakshit\"\n",
    "l_name=\"Bhasin\""
   ]
  },
  {
   "cell_type": "code",
   "execution_count": 43,
   "metadata": {},
   "outputs": [
    {
     "name": "stdout",
     "output_type": "stream",
     "text": [
      "jaisa likhogey, waisa print karega\n"
     ]
    }
   ],
   "source": [
    "print(\"jaisa likhogey, waisa print karega\")"
   ]
  },
  {
   "cell_type": "code",
   "execution_count": 46,
   "metadata": {},
   "outputs": [
    {
     "ename": "NameError",
     "evalue": "name 'p' is not defined",
     "output_type": "error",
     "traceback": [
      "\u001b[1;31m---------------------------------------------------------------------------\u001b[0m",
      "\u001b[1;31mNameError\u001b[0m                                 Traceback (most recent call last)",
      "\u001b[1;32m<ipython-input-46-c7efc66e9b10>\u001b[0m in \u001b[0;36m<module>\u001b[1;34m\u001b[0m\n\u001b[1;32m----> 1\u001b[1;33m \u001b[0mprint\u001b[0m\u001b[1;33m(\u001b[0m\u001b[0mp\u001b[0m\u001b[1;33m)\u001b[0m\u001b[1;33m\u001b[0m\u001b[1;33m\u001b[0m\u001b[0m\n\u001b[0m",
      "\u001b[1;31mNameError\u001b[0m: name 'p' is not defined"
     ]
    }
   ],
   "source": [
    "print(p)"
   ]
  },
  {
   "cell_type": "code",
   "execution_count": 47,
   "metadata": {},
   "outputs": [
    {
     "name": "stdout",
     "output_type": "stream",
     "text": [
      "f_name\n"
     ]
    }
   ],
   "source": [
    "print(\"f_name\")"
   ]
  },
  {
   "cell_type": "code",
   "execution_count": 49,
   "metadata": {},
   "outputs": [
    {
     "name": "stdout",
     "output_type": "stream",
     "text": [
      "Rakshit Bhasin\n"
     ]
    }
   ],
   "source": [
    "print(f_name, l_name)"
   ]
  },
  {
   "cell_type": "code",
   "execution_count": 50,
   "metadata": {},
   "outputs": [
    {
     "name": "stdout",
     "output_type": "stream",
     "text": [
      "RakshitBhasin\n"
     ]
    }
   ],
   "source": [
    "print(f_name+l_name)"
   ]
  },
  {
   "cell_type": "code",
   "execution_count": 53,
   "metadata": {},
   "outputs": [
    {
     "name": "stdout",
     "output_type": "stream",
     "text": [
      "Rakshit  Bhasin\n"
     ]
    }
   ],
   "source": [
    "print(f_name + \"  \" + l_name)"
   ]
  },
  {
   "cell_type": "code",
   "execution_count": 58,
   "metadata": {},
   "outputs": [
    {
     "name": "stdout",
     "output_type": "stream",
     "text": [
      "3Rakshit\n"
     ]
    }
   ],
   "source": [
    "print(\"3\" + f_name)"
   ]
  },
  {
   "cell_type": "code",
   "execution_count": 59,
   "metadata": {},
   "outputs": [],
   "source": [
    "t=3"
   ]
  },
  {
   "cell_type": "code",
   "execution_count": 62,
   "metadata": {},
   "outputs": [
    {
     "name": "stdout",
     "output_type": "stream",
     "text": [
      "3 Rakshit\n"
     ]
    }
   ],
   "source": [
    "print(t,f_name)"
   ]
  },
  {
   "cell_type": "code",
   "execution_count": 65,
   "metadata": {},
   "outputs": [
    {
     "name": "stdout",
     "output_type": "stream",
     "text": [
      "Bhai, aapka naam kya hai ?Ranjan Bhasin\n"
     ]
    }
   ],
   "source": [
    "inp = input(\"Bhai, aapka naam kya hai ?\")"
   ]
  },
  {
   "cell_type": "code",
   "execution_count": 66,
   "metadata": {},
   "outputs": [
    {
     "data": {
      "text/plain": [
       "'Ranjan Bhasin'"
      ]
     },
     "execution_count": 66,
     "metadata": {},
     "output_type": "execute_result"
    }
   ],
   "source": [
    "inp"
   ]
  },
  {
   "cell_type": "code",
   "execution_count": 67,
   "metadata": {},
   "outputs": [
    {
     "name": "stdout",
     "output_type": "stream",
     "text": [
      "Customer's name is Ranjan Bhasin\n"
     ]
    }
   ],
   "source": [
    "print(\"Customer's name is \" + inp)"
   ]
  },
  {
   "cell_type": "code",
   "execution_count": 1,
   "metadata": {},
   "outputs": [
    {
     "data": {
      "text/plain": [
       "False"
      ]
     },
     "execution_count": 1,
     "metadata": {},
     "output_type": "execute_result"
    }
   ],
   "source": [
    "5 > 6"
   ]
  },
  {
   "cell_type": "code",
   "execution_count": 2,
   "metadata": {},
   "outputs": [
    {
     "data": {
      "text/plain": [
       "True"
      ]
     },
     "execution_count": 2,
     "metadata": {},
     "output_type": "execute_result"
    }
   ],
   "source": [
    "6 > 5"
   ]
  },
  {
   "cell_type": "code",
   "execution_count": 3,
   "metadata": {},
   "outputs": [
    {
     "data": {
      "text/plain": [
       "False"
      ]
     },
     "execution_count": 3,
     "metadata": {},
     "output_type": "execute_result"
    }
   ],
   "source": [
    "5 == 6"
   ]
  },
  {
   "cell_type": "code",
   "execution_count": 4,
   "metadata": {},
   "outputs": [],
   "source": [
    "x=25"
   ]
  },
  {
   "cell_type": "code",
   "execution_count": 38,
   "metadata": {},
   "outputs": [],
   "source": [
    "a = 24"
   ]
  },
  {
   "cell_type": "code",
   "execution_count": 44,
   "metadata": {},
   "outputs": [
    {
     "name": "stdout",
     "output_type": "stream",
     "text": [
      "Less than 20\n",
      "a=25\n",
      "byebye\n"
     ]
    }
   ],
   "source": [
    "# Nested if block\n",
    "\n",
    "if (a > 30):\n",
    "    print(\"Correct\")\n",
    "    if(a<25):\n",
    "        print(\"hello\")\n",
    "        if(a==23):\n",
    "            print(\"23\")\n",
    "    print(\"Leaving the block\")\n",
    "elif (a <= 22):\n",
    "    print(\"Less than 30\")\n",
    "    if(a==23):\n",
    "        print(\"a=23\")\n",
    "elif (a <= 26):\n",
    "    print(\"Less than 20\")\n",
    "    if(a < 24):\n",
    "        print(\"a=24\")\n",
    "    elif(a < 25):\n",
    "        print(\"a=25\")\n",
    "else:\n",
    "    print(\"Incorrect\")\n",
    "\n",
    "print(\"byebye\")\n",
    "\n",
    "if(a==24 and a<20):\n",
    "    print(\"Both are true\")"
   ]
  },
  {
   "cell_type": "code",
   "execution_count": 54,
   "metadata": {},
   "outputs": [],
   "source": [
    "# lst is a list which has multiple items - strings and numbers\n",
    "lst=[0,3,0,4,0,6]"
   ]
  },
  {
   "cell_type": "code",
   "execution_count": 18,
   "metadata": {},
   "outputs": [
    {
     "name": "stdout",
     "output_type": "stream",
     "text": [
      "1\n",
      "2\n",
      "3\n",
      "4\n",
      "5\n",
      "Ranjan\n",
      "Kapil\n",
      "Rakshit\n",
      "Dwija\n",
      "Shaurya\n",
      "10\n",
      "20\n",
      "30\n",
      "40\n",
      "50\n"
     ]
    }
   ],
   "source": [
    "#this for loop is defined to access the items in lst\n",
    "for abc in lst:\n",
    "    print(abc)"
   ]
  },
  {
   "cell_type": "code",
   "execution_count": 56,
   "metadata": {},
   "outputs": [
    {
     "name": "stdout",
     "output_type": "stream",
     "text": [
      "\n",
      "Studying\n",
      "ChildrenChildrenChildren\n",
      "Studying\n",
      "\n",
      "Studying\n",
      "ChildrenChildrenChildrenChildren\n",
      "Studying\n",
      "\n",
      "Studying\n",
      "ChildrenChildrenChildrenChildrenChildrenChildren\n",
      "Studying\n"
     ]
    }
   ],
   "source": [
    "for abc in lst:\n",
    "    print(abc * \"Children\")\n",
    "    print(\"Studying\")"
   ]
  },
  {
   "cell_type": "code",
   "execution_count": 57,
   "metadata": {},
   "outputs": [
    {
     "name": "stdout",
     "output_type": "stream",
     "text": [
      "\n",
      "\n",
      "ChildrenChildrenChildren\n",
      "StudyingStudyingStudying\n",
      "\n",
      "\n",
      "ChildrenChildrenChildrenChildren\n",
      "StudyingStudyingStudyingStudying\n",
      "\n",
      "\n",
      "ChildrenChildrenChildrenChildrenChildrenChildren\n",
      "StudyingStudyingStudyingStudyingStudyingStudying\n"
     ]
    }
   ],
   "source": [
    "for abc in lst:\n",
    "    print(abc * \"Children\")\n",
    "    print(abc * \"Studying\")"
   ]
  },
  {
   "cell_type": "code",
   "execution_count": 6,
   "metadata": {},
   "outputs": [
    {
     "name": "stdout",
     "output_type": "stream",
     "text": [
      "First For Loop= Father\n",
      "Second For Loop= Father\n",
      "Innermost For loop= 0\n",
      "Innermost For loop= 1\n",
      "Innermost For loop= 2\n",
      "Second For Loop= Mother\n",
      "Innermost For loop= 0\n",
      "Innermost For loop= 1\n",
      "Innermost For loop= 2\n",
      "Second For Loop= Son\n",
      "Innermost For loop= 0\n",
      "Innermost For loop= 1\n",
      "Innermost For loop= 2\n",
      "Second For Loop= Daughter\n",
      "Innermost For loop= 0\n",
      "Innermost For loop= 1\n",
      "Innermost For loop= 2\n",
      "Second For Loop= 50\n",
      "Innermost For loop= 0\n",
      "Innermost For loop= 1\n",
      "Innermost For loop= 2\n",
      "Second For Loop= 45\n",
      "Innermost For loop= 0\n",
      "Innermost For loop= 1\n",
      "Innermost For loop= 2\n",
      "Second For Loop= 25\n",
      "Innermost For loop= 0\n",
      "Innermost For loop= 1\n",
      "Innermost For loop= 2\n",
      "Second For Loop= 20\n",
      "Innermost For loop= 0\n",
      "Innermost For loop= 1\n",
      "Innermost For loop= 2\n",
      "First For Loop= Mother\n",
      "Second For Loop= Father\n",
      "Innermost For loop= 0\n",
      "Innermost For loop= 1\n",
      "Innermost For loop= 2\n",
      "Second For Loop= Mother\n",
      "Innermost For loop= 0\n",
      "Innermost For loop= 1\n",
      "Innermost For loop= 2\n",
      "Second For Loop= Son\n",
      "Innermost For loop= 0\n",
      "Innermost For loop= 1\n",
      "Innermost For loop= 2\n",
      "Second For Loop= Daughter\n",
      "Innermost For loop= 0\n",
      "Innermost For loop= 1\n",
      "Innermost For loop= 2\n",
      "Second For Loop= 50\n",
      "Innermost For loop= 0\n",
      "Innermost For loop= 1\n",
      "Innermost For loop= 2\n",
      "Second For Loop= 45\n",
      "Innermost For loop= 0\n",
      "Innermost For loop= 1\n",
      "Innermost For loop= 2\n",
      "Second For Loop= 25\n",
      "Innermost For loop= 0\n",
      "Innermost For loop= 1\n",
      "Innermost For loop= 2\n",
      "Second For Loop= 20\n",
      "Innermost For loop= 0\n",
      "Innermost For loop= 1\n",
      "Innermost For loop= 2\n",
      "First For Loop= Son\n",
      "Second For Loop= Father\n",
      "Innermost For loop= 0\n",
      "Innermost For loop= 1\n",
      "Innermost For loop= 2\n",
      "Second For Loop= Mother\n",
      "Innermost For loop= 0\n",
      "Innermost For loop= 1\n",
      "Innermost For loop= 2\n",
      "Second For Loop= Son\n",
      "Innermost For loop= 0\n",
      "Innermost For loop= 1\n",
      "Innermost For loop= 2\n",
      "Second For Loop= Daughter\n",
      "Innermost For loop= 0\n",
      "Innermost For loop= 1\n",
      "Innermost For loop= 2\n",
      "Second For Loop= 50\n",
      "Innermost For loop= 0\n",
      "Innermost For loop= 1\n",
      "Innermost For loop= 2\n",
      "Second For Loop= 45\n",
      "Innermost For loop= 0\n",
      "Innermost For loop= 1\n",
      "Innermost For loop= 2\n",
      "Second For Loop= 25\n",
      "Innermost For loop= 0\n",
      "Innermost For loop= 1\n",
      "Innermost For loop= 2\n",
      "Second For Loop= 20\n",
      "Innermost For loop= 0\n",
      "Innermost For loop= 1\n",
      "Innermost For loop= 2\n",
      "First For Loop= Daughter\n",
      "Second For Loop= Father\n",
      "Innermost For loop= 0\n",
      "Innermost For loop= 1\n",
      "Innermost For loop= 2\n",
      "Second For Loop= Mother\n",
      "Innermost For loop= 0\n",
      "Innermost For loop= 1\n",
      "Innermost For loop= 2\n",
      "Second For Loop= Son\n",
      "Innermost For loop= 0\n",
      "Innermost For loop= 1\n",
      "Innermost For loop= 2\n",
      "Second For Loop= Daughter\n",
      "Innermost For loop= 0\n",
      "Innermost For loop= 1\n",
      "Innermost For loop= 2\n",
      "Second For Loop= 50\n",
      "Innermost For loop= 0\n",
      "Innermost For loop= 1\n",
      "Innermost For loop= 2\n",
      "Second For Loop= 45\n",
      "Innermost For loop= 0\n",
      "Innermost For loop= 1\n",
      "Innermost For loop= 2\n",
      "Second For Loop= 25\n",
      "Innermost For loop= 0\n",
      "Innermost For loop= 1\n",
      "Innermost For loop= 2\n",
      "Second For Loop= 20\n",
      "Innermost For loop= 0\n",
      "Innermost For loop= 1\n",
      "Innermost For loop= 2\n",
      "First For Loop= 50\n",
      "Second For Loop= Father\n",
      "Innermost For loop= 0\n",
      "Innermost For loop= 1\n",
      "Innermost For loop= 2\n",
      "Second For Loop= Mother\n",
      "Innermost For loop= 0\n",
      "Innermost For loop= 1\n",
      "Innermost For loop= 2\n",
      "Second For Loop= Son\n",
      "Innermost For loop= 0\n",
      "Innermost For loop= 1\n",
      "Innermost For loop= 2\n",
      "Second For Loop= Daughter\n",
      "Innermost For loop= 0\n",
      "Innermost For loop= 1\n",
      "Innermost For loop= 2\n",
      "Second For Loop= 50\n",
      "Innermost For loop= 0\n",
      "Innermost For loop= 1\n",
      "Innermost For loop= 2\n",
      "Second For Loop= 45\n",
      "Innermost For loop= 0\n",
      "Innermost For loop= 1\n",
      "Innermost For loop= 2\n",
      "Second For Loop= 25\n",
      "Innermost For loop= 0\n",
      "Innermost For loop= 1\n",
      "Innermost For loop= 2\n",
      "Second For Loop= 20\n",
      "Innermost For loop= 0\n",
      "Innermost For loop= 1\n",
      "Innermost For loop= 2\n",
      "First For Loop= 45\n",
      "Second For Loop= Father\n",
      "Innermost For loop= 0\n",
      "Innermost For loop= 1\n",
      "Innermost For loop= 2\n",
      "Second For Loop= Mother\n",
      "Innermost For loop= 0\n",
      "Innermost For loop= 1\n",
      "Innermost For loop= 2\n",
      "Second For Loop= Son\n",
      "Innermost For loop= 0\n",
      "Innermost For loop= 1\n",
      "Innermost For loop= 2\n",
      "Second For Loop= Daughter\n",
      "Innermost For loop= 0\n",
      "Innermost For loop= 1\n",
      "Innermost For loop= 2\n",
      "Second For Loop= 50\n",
      "Innermost For loop= 0\n",
      "Innermost For loop= 1\n",
      "Innermost For loop= 2\n",
      "Second For Loop= 45\n",
      "Innermost For loop= 0\n",
      "Innermost For loop= 1\n",
      "Innermost For loop= 2\n",
      "Second For Loop= 25\n",
      "Innermost For loop= 0\n",
      "Innermost For loop= 1\n",
      "Innermost For loop= 2\n",
      "Second For Loop= 20\n",
      "Innermost For loop= 0\n",
      "Innermost For loop= 1\n",
      "Innermost For loop= 2\n",
      "First For Loop= 25\n",
      "Second For Loop= Father\n",
      "Innermost For loop= 0\n",
      "Innermost For loop= 1\n",
      "Innermost For loop= 2\n",
      "Second For Loop= Mother\n",
      "Innermost For loop= 0\n",
      "Innermost For loop= 1\n",
      "Innermost For loop= 2\n",
      "Second For Loop= Son\n",
      "Innermost For loop= 0\n",
      "Innermost For loop= 1\n",
      "Innermost For loop= 2\n",
      "Second For Loop= Daughter\n",
      "Innermost For loop= 0\n",
      "Innermost For loop= 1\n",
      "Innermost For loop= 2\n",
      "Second For Loop= 50\n",
      "Innermost For loop= 0\n",
      "Innermost For loop= 1\n",
      "Innermost For loop= 2\n",
      "Second For Loop= 45\n",
      "Innermost For loop= 0\n",
      "Innermost For loop= 1\n",
      "Innermost For loop= 2\n",
      "Second For Loop= 25\n",
      "Innermost For loop= 0\n",
      "Innermost For loop= 1\n",
      "Innermost For loop= 2\n",
      "Second For Loop= 20\n",
      "Innermost For loop= 0\n",
      "Innermost For loop= 1\n",
      "Innermost For loop= 2\n",
      "First For Loop= 20\n",
      "Second For Loop= Father\n",
      "Innermost For loop= 0\n",
      "Innermost For loop= 1\n",
      "Innermost For loop= 2\n",
      "Second For Loop= Mother\n",
      "Innermost For loop= 0\n",
      "Innermost For loop= 1\n",
      "Innermost For loop= 2\n",
      "Second For Loop= Son\n",
      "Innermost For loop= 0\n",
      "Innermost For loop= 1\n",
      "Innermost For loop= 2\n",
      "Second For Loop= Daughter\n",
      "Innermost For loop= 0\n",
      "Innermost For loop= 1\n",
      "Innermost For loop= 2\n",
      "Second For Loop= 50\n",
      "Innermost For loop= 0\n",
      "Innermost For loop= 1\n",
      "Innermost For loop= 2\n",
      "Second For Loop= 45\n",
      "Innermost For loop= 0\n",
      "Innermost For loop= 1\n",
      "Innermost For loop= 2\n",
      "Second For Loop= 25\n",
      "Innermost For loop= 0\n",
      "Innermost For loop= 1\n",
      "Innermost For loop= 2\n",
      "Second For Loop= 20\n",
      "Innermost For loop= 0\n",
      "Innermost For loop= 1\n",
      "Innermost For loop= 2\n"
     ]
    }
   ],
   "source": [
    "#Nested for loop\n",
    "family = [\"Father\",\"Mother\",\"Son\",\"Daughter\",50,45,25,20]\n",
    "\n",
    "for a in family:   #Outer For Loop\n",
    "    print(\"First For Loop=\", a)\n",
    "    for b in family: # Inner For Loop\n",
    "        print(\"Second For Loop=\", b)\n",
    "        for c in range(3): # Innermost For loop\n",
    "            print(\"Innermost For loop=\", c)"
   ]
  },
  {
   "cell_type": "code",
   "execution_count": 5,
   "metadata": {},
   "outputs": [
    {
     "name": "stdout",
     "output_type": "stream",
     "text": [
      "i= 0\n",
      "j= 0\n",
      "j= 1\n",
      "j= 2\n",
      "i= 1\n",
      "j= 0\n",
      "j= 1\n",
      "j= 2\n",
      "i= 2\n",
      "j= 0\n",
      "j= 1\n",
      "j= 2\n"
     ]
    }
   ],
   "source": [
    "for c in range(3):\n",
    "    print(\"i=\", c)\n",
    "    for j in range(3):\n",
    "        print(\"j=\",j)"
   ]
  },
  {
   "cell_type": "code",
   "execution_count": 14,
   "metadata": {},
   "outputs": [
    {
     "name": "stdout",
     "output_type": "stream",
     "text": [
      "One\n",
      "3,2,1\n",
      "0\n",
      "1\n",
      "2\n",
      "Three\n",
      "0\n",
      "1\n",
      "2\n",
      "Two\n",
      "0\n",
      "1\n",
      "2\n",
      "One\n",
      "0\n",
      "1\n",
      "2\n",
      "Two\n",
      "3,2,1\n",
      "0\n",
      "1\n",
      "2\n",
      "Three\n",
      "0\n",
      "1\n",
      "2\n",
      "Two\n",
      "0\n",
      "1\n",
      "2\n",
      "One\n",
      "0\n",
      "1\n",
      "2\n",
      "Three\n",
      "3,2,1\n",
      "0\n",
      "1\n",
      "2\n",
      "Three\n",
      "0\n",
      "1\n",
      "2\n",
      "Two\n",
      "0\n",
      "1\n",
      "2\n",
      "One\n",
      "0\n",
      "1\n",
      "2\n",
      "1\n",
      "3,2,1\n",
      "0\n",
      "1\n",
      "2\n",
      "Three\n",
      "0\n",
      "1\n",
      "2\n",
      "Two\n",
      "0\n",
      "1\n",
      "2\n",
      "One\n",
      "0\n",
      "1\n",
      "2\n",
      "2\n",
      "3,2,1\n",
      "0\n",
      "1\n",
      "2\n",
      "Three\n",
      "0\n",
      "1\n",
      "2\n",
      "Two\n",
      "0\n",
      "1\n",
      "2\n",
      "One\n",
      "0\n",
      "1\n",
      "2\n",
      "3\n",
      "3,2,1\n",
      "0\n",
      "1\n",
      "2\n",
      "Three\n",
      "0\n",
      "1\n",
      "2\n",
      "Two\n",
      "0\n",
      "1\n",
      "2\n",
      "One\n",
      "0\n",
      "1\n",
      "2\n"
     ]
    }
   ],
   "source": [
    "list1=[\"One\",\"Two\",\"Three\",1,2,3]\n",
    "list2=[\"3,2,1\",\"Three\",\"Two\",\"One\"]\n",
    "\n",
    "#Create 3 nested for loops where first one loops over list1, second one loops over list2\n",
    "#and third one loops over range(3) to print their values\n",
    "#Start of code\n",
    "for a in list1:\n",
    "    print(a)\n",
    "    for b in list2:\n",
    "        print(b)\n",
    "        for c in range(3):\n",
    "            print(c)\n",
    "    \n",
    "#End Code"
   ]
  },
  {
   "cell_type": "code",
   "execution_count": 2,
   "metadata": {},
   "outputs": [],
   "source": [
    "my_String=\"This is Sparta\""
   ]
  },
  {
   "cell_type": "code",
   "execution_count": 4,
   "metadata": {},
   "outputs": [
    {
     "data": {
      "text/plain": [
       "'T'"
      ]
     },
     "execution_count": 4,
     "metadata": {},
     "output_type": "execute_result"
    }
   ],
   "source": [
    "my_String[0]"
   ]
  },
  {
   "cell_type": "code",
   "execution_count": 12,
   "metadata": {},
   "outputs": [],
   "source": [
    "number = 100\n",
    "ctr = 5\n",
    "n=50\n",
    "m=30"
   ]
  },
  {
   "cell_type": "code",
   "execution_count": 7,
   "metadata": {},
   "outputs": [],
   "source": [
    "# if, for, and, break, continue, else, as, are all keywords and they cannot be taken as variables"
   ]
  },
  {
   "cell_type": "code",
   "execution_count": 9,
   "metadata": {},
   "outputs": [
    {
     "name": "stdout",
     "output_type": "stream",
     "text": [
      "Yes\n",
      "again yes\n",
      "skip\n"
     ]
    }
   ],
   "source": [
    "if (number>ctr):\n",
    "    print(\"Yes\")\n",
    "    if(ctr<number):\n",
    "        print(\"again yes\")\n",
    "    else:\n",
    "        print(\"No within Yes\")\n",
    "else:\n",
    "    print(\"No\")\n",
    "print(\"skip\")"
   ]
  },
  {
   "cell_type": "code",
   "execution_count": 13,
   "metadata": {},
   "outputs": [
    {
     "name": "stdout",
     "output_type": "stream",
     "text": [
      "Hello 2\n",
      "Hello 6\n"
     ]
    }
   ],
   "source": [
    "if (n<m or m>50):\n",
    "    print(\"Hello 1\")\n",
    "    if(m==30 and m<51):\n",
    "        print(\"Hello 3\")\n",
    "    else:\n",
    "        print(\"Hello 4\")\n",
    "else:\n",
    "    print(\"Hello 2\")\n",
    "\n",
    "if (m>n and m>49):\n",
    "    print(\"Hello 5\")\n",
    "else:\n",
    "    print(\"Hello 6\")"
   ]
  },
  {
   "cell_type": "code",
   "execution_count": 14,
   "metadata": {},
   "outputs": [
    {
     "name": "stdout",
     "output_type": "stream",
     "text": [
      "Hello 1\n",
      "Hello 4\n",
      "Hello 6\n",
      "hello 11\n"
     ]
    }
   ],
   "source": [
    "n=60\n",
    "m=61\n",
    "p=99\n",
    "if (n<m or m>61):\n",
    "    print(\"Hello 1\")\n",
    "    if(m==30 and m<51):\n",
    "        print(\"Hello 3\")\n",
    "    else:\n",
    "        print(\"Hello 4\")\n",
    "else:\n",
    "    print(\"Hello 2\")\n",
    "    if (p<m):\n",
    "        print(\"Hello 7\")\n",
    "    else:\n",
    "        print(\"Hello 8\")\n",
    "\n",
    "if (m>p and m>49):\n",
    "    print(\"Hello 5\")\n",
    "    if(p==99):\n",
    "        print(\"Hello 9\")\n",
    "    else:\n",
    "        print (\"Hello 10\")\n",
    "else:\n",
    "    print(\"Hello 6\")\n",
    "    if(p<n or n<p):\n",
    "        print(\"hello 11\")\n",
    "    else:\n",
    "        print(\"Hello 12\")"
   ]
  },
  {
   "cell_type": "code",
   "execution_count": 15,
   "metadata": {},
   "outputs": [
    {
     "name": "stdout",
     "output_type": "stream",
     "text": [
      "Hello 1\n",
      "Hello 4\n",
      "Hello 5\n",
      "Hello 9\n"
     ]
    }
   ],
   "source": [
    "n=60\n",
    "m=61\n",
    "p=99\n",
    "q=60\n",
    "\n",
    "if (n<m or m>q):\n",
    "    print(\"Hello 1\")\n",
    "    if(m==q and m<51):\n",
    "        print(\"Hello 3\")\n",
    "    else:\n",
    "        print(\"Hello 4\")\n",
    "else:\n",
    "    print(\"Hello 2\")\n",
    "    if (p<m or q>m):\n",
    "        print(\"Hello 7\")\n",
    "    else:\n",
    "        print(\"Hello 8\")\n",
    "\n",
    "if (n>=q and m>49):\n",
    "    print(\"Hello 5\")\n",
    "    if(p==99):\n",
    "        print(\"Hello 9\")\n",
    "    else:\n",
    "        print (\"Hello 10\")\n",
    "else:\n",
    "    print(\"Hello 6\")\n",
    "    if(p<n or n<p):\n",
    "        print(\"hello 11\")\n",
    "    else:\n",
    "        print(\"Hello 12\")"
   ]
  },
  {
   "cell_type": "code",
   "execution_count": 11,
   "metadata": {},
   "outputs": [
    {
     "name": "stdout",
     "output_type": "stream",
     "text": [
      "First For Loop= 0\n",
      "Second For Loop= 0\n",
      "Third For loop= 0\n",
      "Third For loop= 1\n",
      "Second For Loop= 1\n",
      "Third For loop= 0\n",
      "Third For loop= 1\n",
      "First For Loop= 1\n",
      "Second For Loop= 0\n",
      "Third For loop= 0\n",
      "Third For loop= 1\n",
      "Second For Loop= 1\n",
      "Third For loop= 0\n",
      "Third For loop= 1\n",
      "First For Loop= 2\n",
      "Second For Loop= 0\n",
      "Third For loop= 0\n",
      "Third For loop= 1\n",
      "Second For Loop= 1\n",
      "Third For loop= 0\n",
      "Third For loop= 1\n"
     ]
    }
   ],
   "source": [
    "for a in range(3):   #Outer For Loop\n",
    "    print(\"First For Loop=\", a)\n",
    "    for b in range(2): # Inner For Loop\n",
    "        print(\"Second For Loop=\", b)\n",
    "        for c in range(2): # Innermost For loop\n",
    "             print(\"Third For loop=\", c)"
   ]
  },
  {
   "cell_type": "code",
   "execution_count": 12,
   "metadata": {},
   "outputs": [
    {
     "name": "stdout",
     "output_type": "stream",
     "text": [
      "First For Loop= 0\n",
      "Second For Loop= 0\n",
      "Third For loop= 0\n",
      "Second For Loop= 1\n",
      "Third For loop= 0\n"
     ]
    }
   ],
   "source": [
    "for a in range(1):   #Outer For Loop\n",
    "    print(\"First For Loop=\", a)\n",
    "    for b in range(2): # Inner For Loop\n",
    "        print(\"Second For Loop=\", b)\n",
    "        for c in range(1): # Innermost For loop\n",
    "             print(\"Third For loop=\", c)"
   ]
  },
  {
   "cell_type": "code",
   "execution_count": 13,
   "metadata": {},
   "outputs": [
    {
     "name": "stdout",
     "output_type": "stream",
     "text": [
      "First For Loop= 0\n",
      "Second For Loop= 0\n",
      "Third For loop= 0\n",
      "Third For loop= 1\n",
      "Second For Loop= 1\n",
      "Third For loop= 0\n",
      "Third For loop= 1\n",
      "First For Loop= 1\n",
      "Second For Loop= 0\n",
      "Third For loop= 0\n",
      "Third For loop= 1\n",
      "Second For Loop= 1\n",
      "Third For loop= 0\n",
      "Third For loop= 1\n"
     ]
    }
   ],
   "source": [
    "for a in range(2):   #Outer For Loop\n",
    "    print(\"First For Loop=\", a)\n",
    "    for b in range(2): # Inner For Loop\n",
    "        print(\"Second For Loop=\", b)\n",
    "        for c in range(2): # Innermost For loop\n",
    "             print(\"Third For loop=\", c)"
   ]
  },
  {
   "cell_type": "code",
   "execution_count": 1,
   "metadata": {},
   "outputs": [
    {
     "name": "stdout",
     "output_type": "stream",
     "text": [
      "*\n",
      "&\n",
      "$\n",
      "$\n",
      "&\n",
      "$\n",
      "$\n",
      "*\n",
      "&\n",
      "$\n",
      "$\n",
      "&\n",
      "$\n",
      "$\n"
     ]
    }
   ],
   "source": [
    "#assignment as on May 31st 2020\n",
    "for i in range(2):\n",
    "    print(\"*\")\n",
    "    for j in range(2):\n",
    "        print(\"&\")\n",
    "        for k in range(2):\n",
    "            print(\"$\")"
   ]
  },
  {
   "cell_type": "code",
   "execution_count": 6,
   "metadata": {},
   "outputs": [
    {
     "name": "stdout",
     "output_type": "stream",
     "text": [
      "Cricket\n",
      "Badminton\n",
      "Hello\n"
     ]
    }
   ],
   "source": [
    "lst = [\"Cricket\",100,\"Tennis\",200,\"Badminton\",300,\"Judo\"]\n",
    "print(lst[0])\n",
    "print(lst[4])"
   ]
  },
  {
   "cell_type": "code",
   "execution_count": 12,
   "metadata": {},
   "outputs": [
    {
     "name": "stdout",
     "output_type": "stream",
     "text": [
      "Cricket\n",
      "Correct\n",
      "Skip\n",
      "Skip\n",
      "Skip\n",
      "my value is  300\n",
      "Skip\n"
     ]
    }
   ],
   "source": [
    "for ctr in lst:\n",
    "    if ctr==100:\n",
    "        print(\"Correct\")\n",
    "    elif ctr==\"Cricket\":\n",
    "        print(\"Cricket\")\n",
    "    elif ctr==300:\n",
    "        print(\"my value is \", ctr)\n",
    "    else:\n",
    "        print(\"Skip\")"
   ]
  },
  {
   "cell_type": "code",
   "execution_count": 17,
   "metadata": {},
   "outputs": [
    {
     "name": "stdout",
     "output_type": "stream",
     "text": [
      "My value is city\n",
      "melbourne\n",
      "lords\n",
      "wellington\n",
      "1\n",
      "2\n",
      "3\n",
      "4\n"
     ]
    }
   ],
   "source": [
    "ground = [\"kolkata\",\"melbourne\",\"lords\",\"wellington\",1,2,3,4]\n",
    "\n",
    "city = [\"delhi\",\"mumbai\",\"kolkata\",\"kolkatta\"]\n",
    "\n",
    "for g in ground:\n",
    "    if g==\"India\":\n",
    "        print(\"kolkata\")\n",
    "    elif g==city[2]:\n",
    "        print(\"My value is city\")\n",
    "    elif g==city[3]:\n",
    "        print(\"My value is again city\")\n",
    "    else:\n",
    "        print(g)"
   ]
  },
  {
   "cell_type": "code",
   "execution_count": 18,
   "metadata": {},
   "outputs": [
    {
     "ename": "SyntaxError",
     "evalue": "invalid syntax (<ipython-input-18-186a1d858bad>, line 3)",
     "output_type": "error",
     "traceback": [
      "\u001b[1;36m  File \u001b[1;32m\"<ipython-input-18-186a1d858bad>\"\u001b[1;36m, line \u001b[1;32m3\u001b[0m\n\u001b[1;33m    1,1,2,3,5,8,13,21,34,55,89,144,so on\u001b[0m\n\u001b[1;37m                                       ^\u001b[0m\n\u001b[1;31mSyntaxError\u001b[0m\u001b[1;31m:\u001b[0m invalid syntax\n"
     ]
    }
   ],
   "source": [
    "#fibonacci Series\n",
    "\n",
    "1,1,2,3,5,8,13,21,34,55,89,144,so on\n",
    "1,2,3,4,5,6,7,8,9,10\n",
    "#Assignment of June 05th 2020\n",
    "# Create for loop to print fibonacci series\n",
    "# Ask user to input until which step\n",
    "#start code\n",
    "inp=input(\"Please enter the step until you want to print fibonacci series\")\n",
    "inp=int(inp)\n",
    "x=1\n",
    "y=1\n",
    "for\n",
    "\n",
    "#end code"
   ]
  },
  {
   "cell_type": "code",
   "execution_count": 1,
   "metadata": {},
   "outputs": [],
   "source": [
    "# Assignment for June 02nd 2020\n",
    "# Create a for loop to print even numbers\n",
    "# Ask user to input until which step"
   ]
  },
  {
   "cell_type": "code",
   "execution_count": 2,
   "metadata": {},
   "outputs": [
    {
     "name": "stdout",
     "output_type": "stream",
     "text": [
      "Please enter the number of odd numbers which you want  5\n",
      "<class 'str'>\n",
      "<class 'int'>\n"
     ]
    }
   ],
   "source": [
    "#June 03rd 2020\n",
    "i = input (\"Please enter the number of odd numbers which you want  \")\n",
    "j = int(i)\n",
    "print(type(i))\n",
    "print(type(j))"
   ]
  },
  {
   "cell_type": "code",
   "execution_count": 7,
   "metadata": {},
   "outputs": [
    {
     "name": "stdout",
     "output_type": "stream",
     "text": [
      "Please enter the number of odd numbers which you want  6\n",
      "50\n",
      "250\n",
      "450\n",
      "650\n",
      "850\n",
      "1050\n"
     ]
    }
   ],
   "source": [
    "inp=input (\"Please enter the number of multiples which you want  \")\n",
    "inp=int(inp)\n",
    "\n",
    "for i in range(inp):\n",
    "    print(200*i + 50)"
   ]
  },
  {
   "cell_type": "code",
   "execution_count": 11,
   "metadata": {},
   "outputs": [
    {
     "name": "stdout",
     "output_type": "stream",
     "text": [
      "Please enter the number of odd numbers which you want  6\n",
      "i= 0\n",
      "1\n",
      "\n",
      "\n",
      "i= 1\n",
      "3\n",
      "\n",
      "\n",
      "i= 2\n",
      "5\n",
      "\n",
      "\n",
      "i= 3\n",
      "7\n",
      "\n",
      "\n",
      "i= 4\n",
      "9\n",
      "\n",
      "\n",
      "i= 5\n",
      "11\n",
      "\n",
      "\n"
     ]
    }
   ],
   "source": [
    "inp=input (\"Please enter the number of odd numbers which you want  \")\n",
    "inp=int(inp)\n",
    "\n",
    "for i in range(inp):\n",
    "    print(\"i=\", i)\n",
    "    print(2*i + 1)\n",
    "    print(\"\\n\")"
   ]
  },
  {
   "cell_type": "code",
   "execution_count": 11,
   "metadata": {},
   "outputs": [
    {
     "name": "stdout",
     "output_type": "stream",
     "text": [
      "Enter the number whose factorial you want to calculate6\n",
      "factorial is 720\n"
     ]
    }
   ],
   "source": [
    "# factorial of 5 = 5*4*3*2*1; factorial of 10 = 10*9*8*7*6*5*4*3*2*1\n",
    "# factorial of 7 = 7*6*5*4*3*2*1\n",
    "\n",
    "#take user input\n",
    "n = input(\"Enter the number whose factorial you want to calculate\")\n",
    "\n",
    "#convert the user input into integer\n",
    "n = int(n)\n",
    "\n",
    "t=1\n",
    "#calculate factorial\n",
    "\n",
    "\n",
    "for d in range(n):\n",
    "    t = t * (d+1)\n",
    "    # t is a local variable which retains its value within for loop\n",
    "\n",
    "print(\"factorial is\",t)"
   ]
  },
  {
   "cell_type": "code",
   "execution_count": 23,
   "metadata": {},
   "outputs": [
    {
     "data": {
      "text/plain": [
       "'\\nd=0\\nt= 1 * 1 = 1\\n\\nd=1\\nt = 1 * 2 = 2\\n\\nd=2\\nt = 2 * 3 = 6\\n\\nd=3\\nt=6 * 4 = 24\\n\\nd=4\\nt=24 * 5 = 120\\n\\nd=5\\nt=120 * 6 = 720'"
      ]
     },
     "execution_count": 23,
     "metadata": {},
     "output_type": "execute_result"
    }
   ],
   "source": [
    "\"\"\"\n",
    "d=0\n",
    "t= 1 * 1 = 1\n",
    "\n",
    "d=1\n",
    "t = 1 * 2 = 2\n",
    "\n",
    "d=2\n",
    "t = 2 * 3 = 6\n",
    "\n",
    "d=3\n",
    "t=6 * 4 = 24\n",
    "\n",
    "d=4\n",
    "t=24 * 5 = 120\n",
    "\n",
    "d=5\n",
    "t=120 * 6 = 720\n",
    "\"\"\""
   ]
  },
  {
   "cell_type": "code",
   "execution_count": 1,
   "metadata": {},
   "outputs": [
    {
     "name": "stdout",
     "output_type": "stream",
     "text": [
      "Enter the number whose factorial you want to calculate4\n",
      "answer is 384\n"
     ]
    }
   ],
   "source": [
    "# multiplication of even numbers (5 even numbers = 2*4*6*8*10) (7 even numbers = 2*4*6*8*10*12*14)\n",
    "\n",
    "#take user input\n",
    "n = input(\"Enter the number whose factorial you want to calculate\")\n",
    "\n",
    "#convert the user input into integer\n",
    "n = int(n)\n",
    "\n",
    "#calculate multiplication of even numbers\n",
    "t=1\n",
    "\n",
    "for d in range(n):\n",
    "    d = (d*2) + 2\n",
    "    t = t * d\n",
    "\n",
    "print(\"answer is\",t)\n",
    "\n",
    "#d = 0\n",
    "#d = (0*2) +2 = 2\n",
    "#t = 1 * 2 = 2\n",
    "\n",
    "#d = 1\n",
    "#d = (1*2) + 2 = 4\n",
    "#t = 2 * 4 = 8\n",
    "\n",
    "#d = 2\n",
    "#d = (2*2) + 2 = 6\n",
    "#t = 8 * 6 = 48\n",
    "\n",
    "#d = 3\n",
    "#d = (3*2) + 2 = 8\n",
    "#t = 48 * 8 = 384"
   ]
  },
  {
   "cell_type": "code",
   "execution_count": 2,
   "metadata": {},
   "outputs": [],
   "source": [
    "# Assignment of June 03rd\n",
    "# multiplication of odd numbers (5 odd numbers = 1*3*5*7*9) (7 odd numbers = 1*3*5*7*9*11*13)\n"
   ]
  },
  {
   "cell_type": "code",
   "execution_count": 7,
   "metadata": {},
   "outputs": [
    {
     "name": "stdout",
     "output_type": "stream",
     "text": [
      "a\n",
      "r\n",
      "\n",
      "\n",
      "R\n",
      "a\n",
      "k\n",
      "s\n",
      "h\n",
      "i\n",
      "t\n",
      "\n",
      "\n",
      "S\n",
      "h\n",
      "a\n",
      "u\n",
      "r\n",
      "y\n",
      "a\n"
     ]
    }
   ],
   "source": [
    "#June 05th 2020\n",
    "t = \"Rakshit\"\n",
    "s = \"Shaurya\"\n",
    "\n",
    "print(t[1])\n",
    "print(s[4])\n",
    "print(\"\\n\")\n",
    "\n",
    "# R a k s h i t\n",
    "# 0 1 2 3 4 5 6\n",
    "\n",
    "# S h a u r y a\n",
    "# 0 1 2 3 4 5 6\n",
    "\n",
    "for d in t:\n",
    "    print(d)\n",
    "print(\"\\n\")\n",
    "for e in s:\n",
    "    print(e)"
   ]
  },
  {
   "cell_type": "code",
   "execution_count": 23,
   "metadata": {},
   "outputs": [
    {
     "name": "stdout",
     "output_type": "stream",
     "text": [
      "-44016\n",
      "Maximum of the list is  -1\n",
      "Minimum of the list is  -12000\n"
     ]
    }
   ],
   "source": [
    "num = [-12000,-10,-20,-4000,-30,-1,-2,-3,-40,-5,-10000,-1000,-100,-6,-200,-99,-500,-5000,-11000]\n",
    "\n",
    "sum = 0\n",
    "max=num[0]\n",
    "min=num[0]\n",
    "\n",
    "for d in num:\n",
    "    sum=sum+d\n",
    "print(sum)\n",
    "\n",
    "#find maximum value in a list of numbers\n",
    "\n",
    "for n in num:\n",
    "    temp = n\n",
    "    if temp > max:\n",
    "        max = temp\n",
    "\n",
    "print(\"Maximum of the list is \", max)\n",
    "\n",
    "for n in num:\n",
    "    temp = n\n",
    "    if temp < min:\n",
    "        min = temp\n",
    "\n",
    "print(\"Minimum of the list is \", min)"
   ]
  },
  {
   "cell_type": "code",
   "execution_count": 33,
   "metadata": {},
   "outputs": [
    {
     "name": "stdout",
     "output_type": "stream",
     "text": [
      "String\n",
      "<class 'int'>\n",
      "<class 'int'>\n",
      "<class 'int'>\n",
      "<class 'str'>\n",
      "<class 'str'>\n",
      "<class 'int'>\n",
      "<class 'int'>\n",
      "<class 'int'>\n",
      "<class 'str'>\n",
      "<class 'int'>\n",
      "<class 'int'>\n",
      "<class 'str'>\n",
      "<class 'str'>\n",
      "<class 'str'>\n",
      "<class 'int'>\n",
      "\n",
      "Printing the types of all string elements \n",
      "\n",
      "<class 'str'>\n",
      "<class 'str'>\n",
      "<class 'str'>\n",
      "<class 'str'>\n",
      "<class 'str'>\n",
      "<class 'str'>\n"
     ]
    }
   ],
   "source": [
    "num = [12000,10,20,\"S\",\"F\",4000,30,1,\"Z\",2,3,\"R\",\"K\",\"B\",100]\n",
    "\n",
    "if type(num[8])==str:\n",
    "    print(\"String\")\n",
    "else:\n",
    "    print(\"Int\")\n",
    "#print the data type of each element of the list \"num\"  \n",
    "\n",
    "for n in num:\n",
    "    print(type(n))\n",
    "\n",
    "#print the data type where we have string/text\n",
    "print(\"\\nPrinting the types of all string elements \\n\")\n",
    "for e in num:\n",
    "    if type(e)==str:\n",
    "        print(type(e))"
   ]
  },
  {
   "cell_type": "code",
   "execution_count": 1,
   "metadata": {},
   "outputs": [],
   "source": [
    "#Assignment of June 05th\n",
    "number = [2,4,6,8,20,40,60,80]\n",
    "#find average of the list (sum of all elements divided by number of elements)\n",
    "#number of elements can be found by len(number)\n",
    "#start code\n",
    "\n",
    "#end code"
   ]
  },
  {
   "cell_type": "code",
   "execution_count": 2,
   "metadata": {},
   "outputs": [
    {
     "name": "stdout",
     "output_type": "stream",
     "text": [
      "<class 'bool'>\n"
     ]
    }
   ],
   "source": [
    "#June 06th 2020\n",
    "#Lists are collection of elements with all data types together\n",
    "l = [1,2,3,\"a\",\"b\",\"c\",4,5,6,\"d\",\"e\",\"f\",True,False,True,False,2.45,6.89,9.01]\n",
    "print(type(l[15]))"
   ]
  },
  {
   "cell_type": "code",
   "execution_count": 7,
   "metadata": {},
   "outputs": [],
   "source": [
    "l.append(10)"
   ]
  },
  {
   "cell_type": "code",
   "execution_count": 8,
   "metadata": {},
   "outputs": [
    {
     "name": "stdout",
     "output_type": "stream",
     "text": [
      "[1, 2, 3, 'a', 'b', 'c', 4, 5, 6, 'd', 'e', 'f', True, False, True, False, 2.45, 6.89, 9.01, 10]\n"
     ]
    }
   ],
   "source": [
    "print(l)"
   ]
  },
  {
   "cell_type": "code",
   "execution_count": 9,
   "metadata": {},
   "outputs": [],
   "source": [
    "l.remove(1)"
   ]
  },
  {
   "cell_type": "code",
   "execution_count": 10,
   "metadata": {},
   "outputs": [
    {
     "name": "stdout",
     "output_type": "stream",
     "text": [
      "[2, 3, 'a', 'b', 'c', 4, 5, 6, 'd', 'e', 'f', True, False, True, False, 2.45, 6.89, 9.01, 10]\n"
     ]
    }
   ],
   "source": [
    "print(l)"
   ]
  },
  {
   "cell_type": "code",
   "execution_count": 11,
   "metadata": {},
   "outputs": [],
   "source": [
    "l.reverse()"
   ]
  },
  {
   "cell_type": "code",
   "execution_count": 12,
   "metadata": {},
   "outputs": [
    {
     "name": "stdout",
     "output_type": "stream",
     "text": [
      "[10, 9.01, 6.89, 2.45, False, True, False, True, 'f', 'e', 'd', 6, 5, 4, 'c', 'b', 'a', 3, 2]\n"
     ]
    }
   ],
   "source": [
    "print(l)"
   ]
  },
  {
   "cell_type": "code",
   "execution_count": 18,
   "metadata": {},
   "outputs": [
    {
     "name": "stdout",
     "output_type": "stream",
     "text": [
      "0\n",
      "2\n"
     ]
    }
   ],
   "source": [
    "print(l.index(10))\n",
    "print(l.count(True))\n",
    "l.insert(5,\"Bhasin\")"
   ]
  },
  {
   "cell_type": "code",
   "execution_count": 20,
   "metadata": {},
   "outputs": [
    {
     "name": "stdout",
     "output_type": "stream",
     "text": [
      "[10, 9.01, 6.89, 2.45, False, 'Bhasin', True, False, True, 'f', 'e', 'd', 6, 5, 4, 'c', 'b', 'a', 3, 2]\n",
      "20\n"
     ]
    }
   ],
   "source": [
    "print(l)\n",
    "print(len(l))"
   ]
  },
  {
   "cell_type": "code",
   "execution_count": 21,
   "metadata": {},
   "outputs": [],
   "source": [
    "#Assignment is to try all other methods of list"
   ]
  },
  {
   "cell_type": "code",
   "execution_count": 31,
   "metadata": {},
   "outputs": [
    {
     "name": "stdout",
     "output_type": "stream",
     "text": [
      "Please enter number # :100\n",
      "Please enter number # :200\n",
      "Please enter number # :300\n",
      "Please enter number # :400\n",
      "Please enter number # :500\n"
     ]
    }
   ],
   "source": [
    "inp=[]\n",
    "for i in range(5):\n",
    "    inp.append(int(input(\"Please enter number # :\")))"
   ]
  },
  {
   "cell_type": "code",
   "execution_count": 33,
   "metadata": {},
   "outputs": [
    {
     "data": {
      "text/plain": [
       "[5, 6, 7, 8, 9, 100, 200, 300, 400, 500]"
      ]
     },
     "execution_count": 33,
     "metadata": {},
     "output_type": "execute_result"
    }
   ],
   "source": [
    "inp"
   ]
  },
  {
   "cell_type": "code",
   "execution_count": 34,
   "metadata": {},
   "outputs": [
    {
     "name": "stdout",
     "output_type": "stream",
     "text": [
      "Please enter number # :10\n",
      "Please enter number # :20\n",
      "Please enter number # :30\n",
      "Please enter number # :40\n",
      "Please enter number # :50\n"
     ]
    }
   ],
   "source": [
    "for i in range(5):\n",
    "    inp.insert(i,int(input(\"Please enter number # :\")))"
   ]
  },
  {
   "cell_type": "code",
   "execution_count": 35,
   "metadata": {},
   "outputs": [
    {
     "data": {
      "text/plain": [
       "[10, 20, 30, 40, 50, 5, 6, 7, 8, 9, 100, 200, 300, 400, 500]"
      ]
     },
     "execution_count": 35,
     "metadata": {},
     "output_type": "execute_result"
    }
   ],
   "source": [
    "inp"
   ]
  },
  {
   "cell_type": "code",
   "execution_count": 36,
   "metadata": {},
   "outputs": [
    {
     "name": "stdout",
     "output_type": "stream",
     "text": [
      "Please enter number # :11\n",
      "Please enter number # :22\n",
      "Please enter number # :33\n",
      "Please enter number # :44\n",
      "Please enter number # :55\n"
     ]
    }
   ],
   "source": [
    "for i in reversed(range(5)):\n",
    "    inp.insert(i,int(input(\"Please enter number # :\")))"
   ]
  },
  {
   "cell_type": "code",
   "execution_count": 39,
   "metadata": {},
   "outputs": [
    {
     "name": "stdout",
     "output_type": "stream",
     "text": [
      "[55, 10, 44, 20, 33, 30, 22, 40, 11, 50, 5, 6, 7, 8, 9, 100, 200, 300, 400, 500]\n"
     ]
    }
   ],
   "source": [
    "print(inp)"
   ]
  },
  {
   "cell_type": "code",
   "execution_count": 40,
   "metadata": {},
   "outputs": [
    {
     "name": "stdout",
     "output_type": "stream",
     "text": [
      "Please enter number # :99\n",
      "Please enter number # :88\n"
     ]
    }
   ],
   "source": [
    "for i in reversed(range(2)):\n",
    "    inp.insert(i+1, int(input(\"Please enter number # :\")))"
   ]
  },
  {
   "cell_type": "code",
   "execution_count": 41,
   "metadata": {},
   "outputs": [
    {
     "name": "stdout",
     "output_type": "stream",
     "text": [
      "[55, 88, 10, 99, 44, 20, 33, 30, 22, 40, 11, 50, 5, 6, 7, 8, 9, 100, 200, 300, 400, 500]\n"
     ]
    }
   ],
   "source": [
    "print(inp)"
   ]
  },
  {
   "cell_type": "code",
   "execution_count": 44,
   "metadata": {},
   "outputs": [
    {
     "name": "stdout",
     "output_type": "stream",
     "text": [
      "2037\n",
      "Average of list =  92.5909090909091\n"
     ]
    }
   ],
   "source": [
    "sum=0\n",
    "avg=0\n",
    "#this for loop iterates over the elements of inp\n",
    "for k in inp:\n",
    "    sum=sum+k\n",
    "print(sum)\n",
    "#average is calculated by dividing the sum by length of inp \n",
    "avg=sum/len(inp)\n",
    "print(\"Average of list = \", avg)"
   ]
  },
  {
   "cell_type": "code",
   "execution_count": 1,
   "metadata": {},
   "outputs": [],
   "source": [
    "# try 3 different for loops with different methods of list except insert\n",
    "# you can use inp as your list"
   ]
  },
  {
   "cell_type": "code",
   "execution_count": 5,
   "metadata": {},
   "outputs": [
    {
     "name": "stdout",
     "output_type": "stream",
     "text": [
      "\n",
      "Note: you may need to restart the kernel to use updated packages.\n"
     ]
    },
    {
     "name": "stderr",
     "output_type": "stream",
     "text": [
      "'conda' is not recognized as an internal or external command,\n",
      "operable program or batch file.\n"
     ]
    }
   ],
   "source": [
    "#June 07th 2020\n",
    "conda list python"
   ]
  },
  {
   "cell_type": "code",
   "execution_count": 9,
   "metadata": {},
   "outputs": [
    {
     "name": "stdout",
     "output_type": "stream",
     "text": [
      "[1, 2, 3, 'a', 'b', 'c', 4, 5, 6, 'd', 'e', 'f', True, False, True, False, 2.45, 6.89, 9.01, 1, 2]\n"
     ]
    }
   ],
   "source": [
    "k = l.copy()\n",
    "print(k)"
   ]
  },
  {
   "cell_type": "code",
   "execution_count": 10,
   "metadata": {},
   "outputs": [
    {
     "name": "stdout",
     "output_type": "stream",
     "text": [
      "[1, 2, 3, 'a', 'b', 'c', 4, 5, 6, 'd', 'e', 'f', True, False, True, False, 2.45, 6.89, 9.01, 1, 2, 1, 2]\n"
     ]
    }
   ],
   "source": [
    "m=[1,2]\n",
    "l.extend(m)\n",
    "print(l)"
   ]
  },
  {
   "cell_type": "code",
   "execution_count": 12,
   "metadata": {},
   "outputs": [
    {
     "name": "stdout",
     "output_type": "stream",
     "text": [
      "4\n",
      "[1, 2, 3, 'a', 'b', 5, 6, 'd', 'e', 'f', True, False, True, False, 2.45, 6.89, 9.01, 1, 2, 1, 2]\n"
     ]
    }
   ],
   "source": [
    "print(l.pop(5))\n",
    "print(l)"
   ]
  },
  {
   "cell_type": "code",
   "execution_count": 13,
   "metadata": {},
   "outputs": [
    {
     "ename": "TypeError",
     "evalue": "'<' not supported between instances of 'str' and 'int'",
     "output_type": "error",
     "traceback": [
      "\u001b[1;31m---------------------------------------------------------------------------\u001b[0m",
      "\u001b[1;31mTypeError\u001b[0m                                 Traceback (most recent call last)",
      "\u001b[1;32m<ipython-input-13-fb07ac7c73ab>\u001b[0m in \u001b[0;36m<module>\u001b[1;34m\u001b[0m\n\u001b[1;32m----> 1\u001b[1;33m \u001b[0ml\u001b[0m\u001b[1;33m.\u001b[0m\u001b[0msort\u001b[0m\u001b[1;33m(\u001b[0m\u001b[1;33m)\u001b[0m\u001b[1;33m\u001b[0m\u001b[1;33m\u001b[0m\u001b[0m\n\u001b[0m",
      "\u001b[1;31mTypeError\u001b[0m: '<' not supported between instances of 'str' and 'int'"
     ]
    }
   ],
   "source": [
    "l.sort()"
   ]
  },
  {
   "cell_type": "code",
   "execution_count": 4,
   "metadata": {},
   "outputs": [
    {
     "data": {
      "text/plain": [
       "[1, 2, 5, 20, 1]"
      ]
     },
     "execution_count": 4,
     "metadata": {},
     "output_type": "execute_result"
    }
   ],
   "source": [
    "m=[1,2]\n",
    "m.append(5)\n",
    "m.append(20)\n",
    "m.append(1)\n",
    "m"
   ]
  },
  {
   "cell_type": "code",
   "execution_count": 5,
   "metadata": {},
   "outputs": [
    {
     "name": "stdout",
     "output_type": "stream",
     "text": [
      "[1, 1, 2, 5, 20]\n"
     ]
    }
   ],
   "source": [
    "m.sort()\n",
    "print(m)"
   ]
  },
  {
   "cell_type": "code",
   "execution_count": 4,
   "metadata": {},
   "outputs": [
    {
     "data": {
      "text/plain": [
       "[20, 5, 2, 1, 1]"
      ]
     },
     "execution_count": 4,
     "metadata": {},
     "output_type": "execute_result"
    }
   ],
   "source": [
    "m.sort(reverse=True)\n",
    "m"
   ]
  },
  {
   "cell_type": "code",
   "execution_count": 5,
   "metadata": {},
   "outputs": [
    {
     "data": {
      "text/plain": [
       "[1, 1, 2, 5, 20]"
      ]
     },
     "execution_count": 5,
     "metadata": {},
     "output_type": "execute_result"
    }
   ],
   "source": [
    "m.sort()\n",
    "m"
   ]
  },
  {
   "cell_type": "code",
   "execution_count": 7,
   "metadata": {},
   "outputs": [
    {
     "name": "stdout",
     "output_type": "stream",
     "text": [
      "length of m is 5\n",
      "min of m is 1\n",
      "max of m is 20\n"
     ]
    }
   ],
   "source": [
    "print(\"length of m is\", len(m))\n",
    "print(\"min of m is\", min(m))\n",
    "print(\"max of m is\", max(m))"
   ]
  },
  {
   "cell_type": "code",
   "execution_count": 1,
   "metadata": {},
   "outputs": [],
   "source": [
    "import tkinter as tk"
   ]
  },
  {
   "cell_type": "code",
   "execution_count": 2,
   "metadata": {},
   "outputs": [
    {
     "name": "stdout",
     "output_type": "stream",
     "text": [
      "Tkinter is easy to use!\n"
     ]
    }
   ],
   "source": [
    "def write_slogan():\n",
    "    print(\"Tkinter is easy to use!\")\n",
    "\n",
    "root = tk.Tk()\n",
    "frame = tk.Frame(root)\n",
    "frame.pack()\n",
    "\n",
    "button = tk.Button(frame, \n",
    "                   text=\"QUIT\", \n",
    "                   fg=\"red\",\n",
    "                   command=quit)\n",
    "button.pack(side=tk.LEFT)\n",
    "slogan = tk.Button(frame,\n",
    "                   text=\"Hello\",\n",
    "                   command=write_slogan())\n",
    "slogan.pack(side=tk.LEFT)\n",
    "\n",
    "root.mainloop()"
   ]
  },
  {
   "cell_type": "code",
   "execution_count": 1,
   "metadata": {},
   "outputs": [],
   "source": [
    "#June 08th 2020\n",
    "Professions = [\"Doctor\", \"Singer\", \"Actor\", \"Chef\", \"Dancer\", \"Artist\", \"Director\", \"Musician\", \"Teacher\", \"Engineer\",\"Labour\"]\n",
    "                  \n",
    "Hobbies = [\"Singing\"]"
   ]
  },
  {
   "cell_type": "code",
   "execution_count": 3,
   "metadata": {},
   "outputs": [
    {
     "name": "stdout",
     "output_type": "stream",
     "text": [
      "['Doctor', 'Singer', 'Actor', 'Chef', 'Dancer', 'Artist', 'Director', 'Musician', 'Teacher', 'Engineer', 'Singing']\n"
     ]
    }
   ],
   "source": [
    "Professions.extend(Hobbies)\n",
    "print(Professions)"
   ]
  },
  {
   "cell_type": "code",
   "execution_count": 6,
   "metadata": {},
   "outputs": [],
   "source": [
    "#Assignment #1 - Use all methods of list Professions without \"for\" loop\n",
    "#Professions = [\"Doctor\", \"Singer\", \"Actor\", \"Chef\", \"Dancer\", \"Artist\", \"Director\", \"Musician\", \"Teacher\", \"Engineer\"]"
   ]
  },
  {
   "cell_type": "code",
   "execution_count": 9,
   "metadata": {},
   "outputs": [
    {
     "name": "stdout",
     "output_type": "stream",
     "text": [
      "['Teacher', 'Singer', 'Musician', 'Engineer', 'Doctor', 'Director', 'Dancer', 'Chef', 'Artist', 'Actor']\n"
     ]
    }
   ],
   "source": [
    "Professions.sort(reverse=True)\n",
    "print(Professions)"
   ]
  },
  {
   "cell_type": "code",
   "execution_count": 13,
   "metadata": {},
   "outputs": [],
   "source": [
    "#index of the list will continue to change;\n",
    "for k in Professions:\n",
    "    Professions.remove(k)"
   ]
  },
  {
   "cell_type": "code",
   "execution_count": 24,
   "metadata": {},
   "outputs": [],
   "source": [
    "for k in Professions:\n",
    "    Professions.pop(0)"
   ]
  },
  {
   "cell_type": "code",
   "execution_count": 25,
   "metadata": {},
   "outputs": [
    {
     "name": "stdout",
     "output_type": "stream",
     "text": [
      "['Director', 'Musician', 'Teacher', 'Engineer', 'Labour']\n"
     ]
    }
   ],
   "source": [
    "print(Professions)"
   ]
  },
  {
   "cell_type": "code",
   "execution_count": 26,
   "metadata": {},
   "outputs": [],
   "source": [
    "#Assignment #2 is to remove all elements of list without using pop and remove\n",
    "#Professions = [\"Doctor\", \"Singer\", \"Actor\", \"Chef\", \"Dancer\", \"Artist\", \"Director\", \"Musician\", \"Teacher\", \"Engineer\"]"
   ]
  },
  {
   "cell_type": "code",
   "execution_count": 31,
   "metadata": {},
   "outputs": [],
   "source": [
    "#dictionary is another data type which is in the form of key:value pairs\n",
    "names = {\"FirstName\":[\"Rakshit\",\"Dwija\",\"Shaurya\"],\"LastName\":[\"Bhasin\",\"Bhasin\",\"Bhasin\"],\"Place\":[\"Janak Puri\", \"Karol Bagh\"]}"
   ]
  },
  {
   "cell_type": "code",
   "execution_count": 6,
   "metadata": {},
   "outputs": [
    {
     "name": "stdout",
     "output_type": "stream",
     "text": [
      "{'FirstName': ['Rakshit', 'Dwija', 'Shaurya'], 'LastName': ['Bhasin', 'Bhasin', 'Bhasin'], 'Place': 'Janak Puri'}\n"
     ]
    }
   ],
   "source": [
    "print(names)"
   ]
  },
  {
   "cell_type": "code",
   "execution_count": 7,
   "metadata": {},
   "outputs": [
    {
     "data": {
      "text/plain": [
       "dict_keys(['FirstName', 'LastName', 'Place'])"
      ]
     },
     "execution_count": 7,
     "metadata": {},
     "output_type": "execute_result"
    }
   ],
   "source": [
    "names.keys()"
   ]
  },
  {
   "cell_type": "code",
   "execution_count": 8,
   "metadata": {},
   "outputs": [
    {
     "data": {
      "text/plain": [
       "dict_items([('FirstName', ['Rakshit', 'Dwija', 'Shaurya']), ('LastName', ['Bhasin', 'Bhasin', 'Bhasin']), ('Place', 'Janak Puri')])"
      ]
     },
     "execution_count": 8,
     "metadata": {},
     "output_type": "execute_result"
    }
   ],
   "source": [
    "names.items()"
   ]
  },
  {
   "cell_type": "code",
   "execution_count": 9,
   "metadata": {},
   "outputs": [
    {
     "data": {
      "text/plain": [
       "dict_values([['Rakshit', 'Dwija', 'Shaurya'], ['Bhasin', 'Bhasin', 'Bhasin'], 'Janak Puri'])"
      ]
     },
     "execution_count": 9,
     "metadata": {},
     "output_type": "execute_result"
    }
   ],
   "source": [
    "names.values()"
   ]
  },
  {
   "cell_type": "code",
   "execution_count": 12,
   "metadata": {},
   "outputs": [
    {
     "data": {
      "text/plain": [
       "{'F': None,\n",
       " 'i': None,\n",
       " 'r': None,\n",
       " 's': None,\n",
       " 't': None,\n",
       " 'N': None,\n",
       " 'a': None,\n",
       " 'm': None,\n",
       " 'e': None}"
      ]
     },
     "execution_count": 12,
     "metadata": {},
     "output_type": "execute_result"
    }
   ],
   "source": [
    "# June 10th 2020\n",
    "names.fromkeys(\"FirstName\")"
   ]
  },
  {
   "cell_type": "code",
   "execution_count": 21,
   "metadata": {},
   "outputs": [
    {
     "name": "stdout",
     "output_type": "stream",
     "text": [
      "['Rakshit', 'Dwija', 'Shaurya']\n",
      "['Bhasin', 'Bhasin', 'Bhasin']\n"
     ]
    }
   ],
   "source": [
    "print(names.get(\"FirstName\"))\n",
    "print(names.get(\"LastName\"))"
   ]
  },
  {
   "cell_type": "code",
   "execution_count": 34,
   "metadata": {},
   "outputs": [
    {
     "name": "stdout",
     "output_type": "stream",
     "text": [
      "('FirstName', ['Rakshit', 'Dwija', 'Shaurya'])\n",
      "('LastName', ['Bhasin', 'Bhasin', 'Bhasin'])\n",
      "('Place', ['Janak Puri', 'Karol Bagh'])\n"
     ]
    }
   ],
   "source": [
    "for b in names.items():\n",
    "    print(b)"
   ]
  },
  {
   "cell_type": "code",
   "execution_count": 40,
   "metadata": {},
   "outputs": [
    {
     "name": "stdout",
     "output_type": "stream",
     "text": [
      "dict_keys(['FirstName', 'LastName', 'Place'])\n",
      "\n",
      "\n",
      "FirstName\n",
      "LastName\n",
      "Place\n"
     ]
    }
   ],
   "source": [
    "print(names.keys())\n",
    "print(\"\\n\")\n",
    "#keys() within a for loop\n",
    "for k in names.keys():\n",
    "    print(k)"
   ]
  },
  {
   "cell_type": "code",
   "execution_count": 41,
   "metadata": {},
   "outputs": [],
   "source": [
    "#Assignment # 1 - try all other methods of dictionary"
   ]
  },
  {
   "cell_type": "code",
   "execution_count": 49,
   "metadata": {},
   "outputs": [
    {
     "name": "stdout",
     "output_type": "stream",
     "text": [
      "This is my function\n",
      "End of function\n",
      "Please enter first number5\n",
      "Please enter second number3\n",
      "Multiplication of  5 and 3 is  15\n",
      "Division of  5 by 3 is 1.6666666666666667\n"
     ]
    }
   ],
   "source": [
    "# functions are better way to separate the logical sections of a program\n",
    "# def functionname():\n",
    "#   statement\n",
    "#   statement\n",
    "\n",
    "#defining the function\n",
    "def first():\n",
    "    print(\"This is my function\")\n",
    "    print(\"End of function\")\n",
    "#calling the function\n",
    "first()\n",
    "\n",
    "#defining the function\n",
    "def multiply(f,s):\n",
    "    m=f*s\n",
    "    print(\"Multiplication of \",f,\"and\",s,\"is \", m)\n",
    "\n",
    "#defining the function\n",
    "def division(f,s):\n",
    "    m=f/s\n",
    "    print(\"Division of \",f, \"by\", s, \"is\", m)\n",
    "\n",
    "f=int(input(\"Please enter first number\"))\n",
    "s=int(input(\"Please enter second number\"))\n",
    "\n",
    "#calling the function\n",
    "multiply(f,s)\n",
    "division(f,s)\n"
   ]
  },
  {
   "cell_type": "code",
   "execution_count": 50,
   "metadata": {},
   "outputs": [],
   "source": [
    "#Assignment # 2 - write a function to add 5 numbers inputted by a user with a help of for loop within a function.\n",
    "#The numbers have to be inserted in a list\n",
    "#Hint: write for loop inside a function to calculate sum"
   ]
  },
  {
   "cell_type": "code",
   "execution_count": 10,
   "metadata": {},
   "outputs": [
    {
     "name": "stdout",
     "output_type": "stream",
     "text": [
      "Please enter the number of values you want to take sum7\n",
      "Enter the number which you want to add=5\n",
      "Enter the number which you want to add=5\n",
      "Enter the number which you want to add=5\n",
      "Enter the number which you want to add=5\n",
      "Enter the number which you want to add=5\n",
      "Enter the number which you want to add=5\n",
      "Enter the number which you want to add=5\n",
      "Sum of the inputted numbers is  35\n"
     ]
    },
    {
     "data": {
      "text/plain": [
       "'\\ndef addition(a,b,c,d,e):\\n    add = a+b+c+d+e\\n    print(\"Addition of \",a, \",\", b,\",\",c,\",\",d, \"and\" ,e,\"is\", add)\\n\\na=int(input(\"Enter the number which you want to add=\" ))\\nb=int(input(\"Enter the number which you want to add=\" ))\\nc=int(input(\"Enter the number which you want to add=\" ))\\nd=int(input(\"Enter the number which you want to add=\" ))\\ne=int(input(\"Enter the number which you want to add=\" ))\\n\\n#we are caling the function here\\naddition(a,b,c,d,e)\\n'"
      ]
     },
     "execution_count": 10,
     "metadata": {},
     "output_type": "execute_result"
    }
   ],
   "source": [
    "#June 11th 2020\n",
    "inp=[]\n",
    "\n",
    "#definition\n",
    "def sumofnum(l):\n",
    "    add=0\n",
    "    for i in l:\n",
    "        add=add+i\n",
    "    print(\"Sum of the inputted numbers is \", add)\n",
    "#user input for no of values\n",
    "count=int(input(\"Please enter the number of values you want to take sum\"))\n",
    "\n",
    "# user input of 5 numbers - to be inputted in a list\n",
    "for i in range(count):\n",
    "    inp.append(int(input(\"Enter the number which you want to add=\" )))\n",
    "\n",
    "\n",
    "# calling of function means runnig the defined function\n",
    "sumofnum(inp)\n",
    "\n",
    "\n",
    "\n",
    "#passing the parameters which are a,b,c,d,e\n",
    "\"\"\"\n",
    "def addition(a,b,c,d,e):\n",
    "    add = a+b+c+d+e\n",
    "    print(\"Addition of \",a, \",\", b,\",\",c,\",\",d, \"and\" ,e,\"is\", add)\n",
    "\n",
    "a=int(input(\"Enter the number which you want to add=\" ))\n",
    "b=int(input(\"Enter the number which you want to add=\" ))\n",
    "c=int(input(\"Enter the number which you want to add=\" ))\n",
    "d=int(input(\"Enter the number which you want to add=\" ))\n",
    "e=int(input(\"Enter the number which you want to add=\" ))\n",
    "\n",
    "#we are caling the function here\n",
    "addition(a,b,c,d,e)\n",
    "\"\"\""
   ]
  },
  {
   "cell_type": "code",
   "execution_count": 13,
   "metadata": {},
   "outputs": [
    {
     "name": "stdout",
     "output_type": "stream",
     "text": [
      "sum is 15\n",
      "subtraction is  5\n",
      "multiplication is  50\n",
      "division is 2.0\n",
      "combination of arithmetic is  100\n"
     ]
    }
   ],
   "source": [
    "def fun(a,b):\n",
    "    s=a+b\n",
    "    sub=a-b\n",
    "    mult=a*b\n",
    "    div=a/b\n",
    "    compl=a*b+b*a\n",
    "    print(\"sum is\",s)\n",
    "    print(\"subtraction is \",sub)\n",
    "    print(\"multiplication is \", mult)\n",
    "    print(\"division is\", div)\n",
    "    print(\"combination of arithmetic is \", compl)\n",
    "\n",
    "fun(10,5)"
   ]
  },
  {
   "cell_type": "code",
   "execution_count": 1,
   "metadata": {},
   "outputs": [
    {
     "name": "stdout",
     "output_type": "stream",
     "text": [
      "Please enter the number of values you want to operate on 3\n",
      "Enter the number =3\n",
      "Enter the number =4\n",
      "Enter the number =5\n",
      "Please enter which operator you want to use - you should either '+' or '-' or '*' or '/'*\n",
      "You requested for * and the answer is  60\n"
     ]
    }
   ],
   "source": [
    "inp=[]\n",
    "\n",
    "#definition with parameters / arguments (list and text)\n",
    "def maths(inp,a):\n",
    "    result=0\n",
    "    m=1\n",
    "    if a==\"+\":\n",
    "        for i in inp:\n",
    "            result=result + i\n",
    "        print(\"You requested for + and the answer is \", result)\n",
    "    elif a==\"-\":\n",
    "        for i in inp:\n",
    "            result=result - i\n",
    "        print(\"You requested for - and the answer is \", result)\n",
    "    elif a==\"*\":\n",
    "        for i in inp:\n",
    "            m = m*i\n",
    "        print(\"You requested for * and the answer is \", m)\n",
    "    elif a==\"/\":\n",
    "        for i in inp:\n",
    "            m=m/i\n",
    "        print(\"You requested for / and the answer is \", m)\n",
    "    else:\n",
    "        print(\"The operator inputted is incorrect, I am exiting\")\n",
    "\n",
    "#user input for no of values\n",
    "count=int(input(\"Please enter the number of values you want to operate on \"))\n",
    "\n",
    "# user input of 5 numbers - to be inputted in a list\n",
    "for i in range(count):\n",
    "    inp.append(int(input(\"Enter the number =\" )))\n",
    "\n",
    "a=input(\"Please enter which operator you want to use - you should either '+' or '-' or '*' or '/'\")\n",
    "\n",
    "#calling /runnig the function along with passing the arguments\n",
    "maths(inp,a)"
   ]
  },
  {
   "cell_type": "code",
   "execution_count": 1,
   "metadata": {},
   "outputs": [],
   "source": [
    "#Assignment - Create a program to achieve below \n",
    "# Ask user to give how many names he wants to enter..\n",
    "#Then user should be able to enter the same number of names..All names should be part of list\n",
    "#Create a function to sort the list and print the sorted list"
   ]
  },
  {
   "cell_type": "code",
   "execution_count": 3,
   "metadata": {},
   "outputs": [
    {
     "name": "stdout",
     "output_type": "stream",
     "text": [
      "Please enter the number of values you want to operate on 4\n",
      "Enter the name of you and your best friends=Ranjan\n",
      "Enter the name of you and your best friends=Vinay\n",
      "Enter the name of you and your best friends=Sudhith\n",
      "Enter the name of you and your best friends=Amit\n",
      "['Amit', 'Ranjan', 'Sudhith', 'Vinay']\n"
     ]
    }
   ],
   "source": [
    "inp=[]\n",
    "count=int(input(\"Please enter the number of values you want to operate on \"))\n",
    "for i in range(count):\n",
    "    inp.append(input(\"Enter the name of you and your best friends=\" ))\n",
    "\n",
    "#defining the function\n",
    "def sortlist(l):\n",
    "    l.sort()\n",
    "    print(l)\n",
    "\n",
    "#calling the function\n",
    "sortlist(inp)"
   ]
  },
  {
   "cell_type": "code",
   "execution_count": 6,
   "metadata": {},
   "outputs": [
    {
     "name": "stdout",
     "output_type": "stream",
     "text": [
      "Please enter the number of values you want to operate on 4\n",
      "Enter the name of you and your best friends=Great\n",
      "Enter the name of you and your best friends=Fun\n",
      "Enter the name of you and your best friends=Print\n",
      "Enter the name of you and your best friends=Enjoy\n",
      "['Enjoy', 'Fun', 'Great', 'Print']\n"
     ]
    }
   ],
   "source": [
    "#June 12th 2020\n",
    "#nested functions\n",
    "\n",
    "inp=[]\n",
    "\n",
    "def inputuser():\n",
    "    count=int(input(\"Please enter the number of values you want to operate on \"))\n",
    "    for i in range(count):\n",
    "        inp.append(input(\"Enter the name of you and your best friends=\" ))\n",
    "    sortlist(inp)\n",
    "\n",
    "#defining the function\n",
    "def sortlist(l):\n",
    "    l.sort()\n",
    "    print(l)\n",
    "\n",
    "#calling the functions\n",
    "inputuser()"
   ]
  },
  {
   "cell_type": "code",
   "execution_count": 9,
   "metadata": {},
   "outputs": [
    {
     "name": "stdout",
     "output_type": "stream",
     "text": [
      "Please enter the number of values you want to operate on 5\n",
      "Enter the number2\n",
      "Enter the number3\n",
      "Enter the number4\n",
      "Enter the number5\n",
      "Enter the number6\n",
      "20\n"
     ]
    }
   ],
   "source": [
    "# Assignment # 1 - Create nested functions to 1) user_input, 2) add the numbers\n",
    "# addition function should be called within the user_input\n",
    "\n",
    "#calling the function within definition of another function\n",
    "def inputuser():\n",
    "    inp=[]\n",
    "    count=int(input(\"Please enter the number of values you want to operate on \"))\n",
    "    for i in range(count):\n",
    "        inp.append(int(input(\"Enter the number\" )))\n",
    "    s=addnum(inp)\n",
    "    print(s)\n",
    "       \n",
    "def addnum(l):\n",
    "    sum=0\n",
    "    for i in l:\n",
    "        sum=sum+i\n",
    "    return sum\n",
    "\n",
    "inputuser()"
   ]
  },
  {
   "cell_type": "code",
   "execution_count": 13,
   "metadata": {},
   "outputs": [
    {
     "name": "stdout",
     "output_type": "stream",
     "text": [
      "Please enter the number of values you want to operate on 3\n",
      "Enter the name of you and your best friends=a\n",
      "Enter the name of you and your best friends=b\n",
      "Enter the name of you and your best friends=c\n",
      "Please enter the number of values you want to operate on 4\n",
      "Enter the name of you and your best friends=z\n",
      "Enter the name of you and your best friends=y\n",
      "Enter the name of you and your best friends=x\n",
      "Enter the name of you and your best friends=w\n",
      "Please enter the number of values you want to operate on 3\n",
      "Enter the name of you and your best friends=d\n",
      "Enter the name of you and your best friends=e\n",
      "Enter the name of you and your best friends=f\n",
      "Please enter the number of values you want to operate on 3\n",
      "Enter the name of you and your best friends=m\n",
      "Enter the name of you and your best friends=n\n",
      "Enter the name of you and your best friends=o\n",
      "Printing list ['a', 'b', 'c']\n",
      "Printing list ['z', 'y', 'x', 'w']\n",
      "Printing list ['d', 'e', 'f']\n",
      "Printing list ['m', 'n', 'o']\n",
      "List sorted in ascending order ['a', 'b', 'c']\n",
      "List sorted in ascending order ['w', 'x', 'y', 'z']\n",
      "List sorted in ascending order ['d', 'e', 'f']\n",
      "List sorted in ascending order ['m', 'n', 'o']\n",
      "List sorted in descending order ['c', 'b', 'a']\n",
      "List sorted in descending order ['z', 'y', 'x', 'w']\n",
      "List sorted in descending order ['f', 'e', 'd']\n",
      "List sorted in descending order ['o', 'n', 'm']\n"
     ]
    }
   ],
   "source": [
    "#function returning values\n",
    "\n",
    "def userinput():\n",
    "    inp=[]\n",
    "    count=int(input(\"Please enter the number of values you want to operate on \"))\n",
    "    for i in range(count):\n",
    "        inp.append(input(\"Enter the name of you and your best friends=\" ))\n",
    "    return inp\n",
    "\n",
    "#defining the function\n",
    "def sortlist(l):\n",
    "    l.sort()\n",
    "    print(\"List sorted in ascending order\",l)\n",
    "\n",
    "def revsort(l):\n",
    "    l.sort(reverse=True)\n",
    "    print(\"List sorted in descending order\", l)\n",
    "\n",
    "def printlist(l):\n",
    "    print(\"Printing list\", l)\n",
    "\n",
    "#calling the functions means running the functions\n",
    "#lst is a variable which has to be defined to capture returned value\n",
    "\n",
    "lst1 = userinput()\n",
    "lst2 = userinput()\n",
    "lst3 = userinput()\n",
    "lst4 = userinput()\n",
    "\n",
    "\n",
    "#calling the functions\n",
    "printlist(lst1)\n",
    "printlist(lst2)\n",
    "printlist(lst3)\n",
    "printlist(lst4)\n",
    "\n",
    "sortlist(lst1)\n",
    "sortlist(lst2)\n",
    "sortlist(lst3)\n",
    "sortlist(lst4)\n",
    "\n",
    "revsort(lst1)\n",
    "revsort(lst2)\n",
    "revsort(lst3)\n",
    "revsort(lst4)"
   ]
  },
  {
   "cell_type": "code",
   "execution_count": 5,
   "metadata": {},
   "outputs": [
    {
     "name": "stdout",
     "output_type": "stream",
     "text": [
      "Enter the number of lists which you want to work on :3\n",
      "Please enter the number of values you want to operate on 7\n",
      "Enter the name of you and your best friend #Sun\n",
      "Enter the name of you and your best friend #Mon\n",
      "Enter the name of you and your best friend #Tue\n",
      "Enter the name of you and your best friend #Wed\n",
      "Enter the name of you and your best friend #Thu\n",
      "Enter the name of you and your best friend #Fri\n",
      "Enter the name of you and your best friend #Sat\n",
      "Please enter the number of values you want to operate on 6\n",
      "Enter the name of you and your best friend #Jan\n",
      "Enter the name of you and your best friend #Feb\n",
      "Enter the name of you and your best friend #Mar\n",
      "Enter the name of you and your best friend #Apr\n",
      "Enter the name of you and your best friend #May\n",
      "Enter the name of you and your best friend #Jun\n",
      "Please enter the number of values you want to operate on 5\n",
      "Enter the name of you and your best friend #Rakshit\n",
      "Enter the name of you and your best friend #Dwija\n",
      "Enter the name of you and your best friend #Shaurya\n",
      "Enter the name of you and your best friend #Tamanna\n",
      "Enter the name of you and your best friend #Saanvi\n",
      "Printing list ['Sun', 'Mon', 'Tue', 'Wed', 'Thu', 'Fri', 'Sat']\n",
      "Printing list ['Jan', 'Feb', 'Mar', 'Apr', 'May', 'Jun']\n",
      "Printing list ['Rakshit', 'Dwija', 'Shaurya', 'Tamanna', 'Saanvi']\n",
      "List sorted in ascending order ['Fri', 'Mon', 'Sat', 'Sun', 'Thu', 'Tue', 'Wed']\n",
      "List sorted in ascending order ['Apr', 'Feb', 'Jan', 'Jun', 'Mar', 'May']\n",
      "List sorted in ascending order ['Dwija', 'Rakshit', 'Saanvi', 'Shaurya', 'Tamanna']\n",
      "List sorted in descending order ['Wed', 'Tue', 'Thu', 'Sun', 'Sat', 'Mon', 'Fri']\n",
      "List sorted in descending order ['May', 'Mar', 'Jun', 'Jan', 'Feb', 'Apr']\n",
      "List sorted in descending order ['Tamanna', 'Shaurya', 'Saanvi', 'Rakshit', 'Dwija']\n"
     ]
    }
   ],
   "source": [
    "#Assignment # 2 - Modify above program to achieve the same using for loops for every function\n",
    "\n",
    "#function returning values\n",
    "\n",
    "def userinput():\n",
    "    inp=[]\n",
    "    count=int(input(\"Please enter the number of values you want to operate on \"))\n",
    "    for i in range(count):\n",
    "        inp.append(input(\"Enter the name of you and your best friend #\"))\n",
    "    return inp\n",
    "\n",
    "#defining the function\n",
    "def sortlist(l):\n",
    "    l.sort()\n",
    "    print(\"List sorted in ascending order\",l)\n",
    "\n",
    "def revsort(l):\n",
    "    l.sort(reverse=True)\n",
    "    print(\"List sorted in descending order\", l)\n",
    "\n",
    "def printlist(l):\n",
    "    print(\"Printing list\", l)\n",
    "\n",
    "#calling the functions means running the functions\n",
    "#lst is a variable which has to be defined to capture returned value\n",
    "\n",
    "\n",
    "totallist=[]\n",
    "listcount=int(input(\"Enter the number of lists which you want to work on :\"))\n",
    "for i in range(listcount):\n",
    "    totallist.append(userinput())\n",
    "\n",
    "\"\"\"\n",
    "[[\"Rakshit\",\"Dwija\",\"Shaurya\"],\n",
    " [\"Tamanna\",\"Saanvi\"],\n",
    " [\"Ranjan\",\"Raman\",\"Kapil\"],\n",
    "[\"Rajeev\",\"Susheel\"],\n",
    "[\"Chitra\",\"Supriya\",\"Shelly\"],\n",
    "[13,12,11],\n",
    "[8,7]]\n",
    "\"\"\"\n",
    "#lst1 = userinput()\n",
    "#lst2 = userinput()\n",
    "#lst3 = userinput()\n",
    "#lst4 = userinput()\n",
    "\n",
    "#calling the functions\n",
    "for i in totallist:\n",
    "    printlist(i)\n",
    "\n",
    "#printlist(lst1)\n",
    "#printlist(lst2)\n",
    "#printlist(lst3)\n",
    "#printlist(lst4)\n",
    "\n",
    "for i in totallist:\n",
    "    sortlist(i)\n",
    "\n",
    "#sortlist(lst1)\n",
    "#sortlist(lst2)\n",
    "#sortlist(lst3)\n",
    "#sortlist(lst4)\n",
    "\n",
    "for i in totallist:\n",
    "    revsort(i)\n",
    "\n",
    "#revsort(lst1)\n",
    "#revsort(lst2)\n",
    "#revsort(lst3)\n",
    "#revsort(lst4)"
   ]
  },
  {
   "cell_type": "code",
   "execution_count": 1,
   "metadata": {},
   "outputs": [],
   "source": [
    "#Assignment of June 13th\n",
    "# Add 2 more functions except for clear()"
   ]
  },
  {
   "cell_type": "code",
   "execution_count": 2,
   "metadata": {},
   "outputs": [
    {
     "name": "stdout",
     "output_type": "stream",
     "text": [
      "['Shelly', 'Supriya', 'Chitra', 1, 2, 2]\n"
     ]
    }
   ],
   "source": [
    "#June 15th 2020\n",
    "#List of lists - multiple lists in 1 list\n",
    "lists=[[\"Rajeev\",\"Sushil\"] , \n",
    "      [\"Shelly\",\"Supriya\",\"Chitra\",1,2,2], [\"Saanvi\",\"Tamanna\",7,8],[41,40,38],[\"Kapil\",\"Raman\",\"Ranjan\"]]\n",
    "\n",
    "print(lists[1])"
   ]
  },
  {
   "cell_type": "code",
   "execution_count": 9,
   "metadata": {},
   "outputs": [
    {
     "name": "stdout",
     "output_type": "stream",
     "text": [
      "Tamanna\n"
     ]
    }
   ],
   "source": [
    "print(lists[2][1])"
   ]
  },
  {
   "cell_type": "code",
   "execution_count": 18,
   "metadata": {},
   "outputs": [
    {
     "name": "stdout",
     "output_type": "stream",
     "text": [
      "300\n",
      "['Kapil', 'Raman', 'Ranjan', [100, 200, 300]]\n",
      "[100, 200, 300]\n",
      "Krishna\n",
      "May\n"
     ]
    }
   ],
   "source": [
    "lists=[[\"Rajeev\",\"Sushil\"] , \n",
    "      [\"Shelly\",\"Supriya\",\"Chitra\",1,2,2], \n",
    "        [\"Saanvi\",\"Tamanna\",7,8],\n",
    "       [41,40,38],\n",
    "       [\"Kapil\",\"Raman\",\"Ranjan\",\n",
    "                [100,200,300]]]\n",
    "\n",
    "lst = [\n",
    "            [\"Rajeev\",\"Sushil\",[\"Pran\",\"Krishna\"]] , \n",
    "            [\"Shelly\",\"Supriya\",\"Chitra\",1,2,2], \n",
    "            [\"Saanvi\",\"Tamanna\",7,8],\n",
    "            [41,40,38,\n",
    "                [1979,1980,1982,\n",
    "                     [\"July\",\"Nov\",\"May\"]]],\n",
    "            [\"Kapil\",\"Raman\",\"Ranjan\",\n",
    "                [100,200,300]]]\n",
    "\n",
    "l=[1,2,3, [10,20,30,[\"a\",\"b\",\"c\"]]]\n",
    "\n",
    "#3-dimentionsl list\n",
    "print(lists[4][3][2])\n",
    "print(lists[-1])\n",
    "print(lists[4][-1])\n",
    "\n",
    "#to print \"Krishna\" - it will be found in 03rd dimension but the list is 4 dimensional list\n",
    "print(lst[0][2][1])\n",
    "\n",
    "#to print \"May\" - 4 dimensional list\n",
    "print(lst[3][3][3][2])"
   ]
  },
  {
   "cell_type": "code",
   "execution_count": 38,
   "metadata": {},
   "outputs": [
    {
     "name": "stdout",
     "output_type": "stream",
     "text": [
      "dict_items([('Place', 'JanakPuri'), ('Pincode', 110058), ('Address', 'B1454'), ('names', ['Rajeev', 'Ranjan', 'Raman', 'Kapil'])])\n",
      "dict_keys(['Place', 'Pincode', 'Address', 'names'])\n",
      "dictionary of dictionary  dict_values(['JanakPuri', 110058, 'B1454', ['Rajeev', 'Ranjan', 'Raman', 'Kapil'], {'Ranjan': 1979, 'Raman': 1980, 'Kapil': 1982}])\n",
      "dict_keys(['Place', 'Pincode', 'Address', 'names', 'date'])\n"
     ]
    },
    {
     "data": {
      "text/plain": [
       "1979"
      ]
     },
     "execution_count": 38,
     "metadata": {},
     "output_type": "execute_result"
    }
   ],
   "source": [
    "#revision of dictionary\n",
    "dct={\"Place\":\"JanakPuri\", \"Pincode\":110058, \"Address\":\"B1454\", \"names\":[\"Rajeev\",\"Ranjan\",\"Raman\",\"Kapil\"]}\n",
    "print(dct.items())\n",
    "print(dct.keys())\n",
    "dct.values()\n",
    "\n",
    "dctn={\"Place\":\"JanakPuri\", \"Pincode\":110058, \"Address\":\"B1454\", \"names\":[\"Rajeev\",\"Ranjan\",\"Raman\",\"Kapil\"],\n",
    "      \"date\":{\"Ranjan\":1979,\"Raman\":1980,\"Kapil\":1982}}\n",
    "\n",
    "print(\"dictionary of dictionary \" , dctn.values())\n",
    "print(dctn.keys())\n",
    "dctn[\"date\"][\"Ranjan\"]"
   ]
  },
  {
   "cell_type": "code",
   "execution_count": null,
   "metadata": {},
   "outputs": [],
   "source": [
    "#We will study tomorrow : find our how can we acces keys of  dictionary within dictionary "
   ]
  },
  {
   "cell_type": "code",
   "execution_count": 1,
   "metadata": {},
   "outputs": [],
   "source": [
    "#Assignment #1: Revise all programs\n",
    "#Assignment #2: Create 5 dimensional list - dont copy above list"
   ]
  },
  {
   "cell_type": "code",
   "execution_count": 17,
   "metadata": {},
   "outputs": [
    {
     "name": "stdout",
     "output_type": "stream",
     "text": [
      "[['Rajeev', 'Sushil', 'Ranjan', 'Raman', 'Kapil'], ['Shelly', 'Supriya', 'Chitra'], ['Rakshit', ['Dwija', 'Tamanna', ['Shaurya', 'Saanvi', ['May', 'Jan', 'Jan', 'Sep', 'Feb']]]]]\n",
      "Sep\n"
     ]
    }
   ],
   "source": [
    "lsts=[[\"Rajeev\",\"Sushil\",\"Ranjan\",\"Raman\",\"Kapil\"] , \n",
    "      [\"Shelly\",\"Supriya\",\"Chitra\",], \n",
    "      [\"Rakshit\",\n",
    "        [\"Dwija\",\"Tamanna\",\n",
    "            [\"Shaurya\",\"Saanvi\",\n",
    "                [\"May\",\"Jan\",\"Jan\",\"Sep\",\"Feb\",]]]]]\n",
    "print(lsts)\n",
    "#to print Sep , May , Jan , Jan , Feb --> 5 dimensional list\n",
    "print(lsts[2][1][2][2][3])"
   ]
  },
  {
   "cell_type": "code",
   "execution_count": null,
   "metadata": {},
   "outputs": [],
   "source": []
  }
 ],
 "metadata": {
  "kernelspec": {
   "display_name": "Python 3",
   "language": "python",
   "name": "python3"
  },
  "language_info": {
   "codemirror_mode": {
    "name": "ipython",
    "version": 3
   },
   "file_extension": ".py",
   "mimetype": "text/x-python",
   "name": "python",
   "nbconvert_exporter": "python",
   "pygments_lexer": "ipython3",
   "version": "3.7.6"
  }
 },
 "nbformat": 4,
 "nbformat_minor": 2
}
